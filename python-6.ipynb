{
 "cells": [
  {
   "cell_type": "code",
   "execution_count": 3,
   "metadata": {},
   "outputs": [
    {
     "name": "stdout",
     "output_type": "stream",
     "text": [
      "139\n",
      "45\n",
      "[4, 30, 2, 10]\n",
      "[5, 4, 17, 19, 30]\n"
     ]
    }
   ],
   "source": [
    "x = [5, 4, 17, 19, 30, 2, 7, 10, 45]\n",
    "\n",
    "print(sum(x))\n",
    "\n",
    "print(max(x))\n",
    "\n",
    "even = []\n",
    "for i in x:\n",
    "    if i % 2 == 0:\n",
    "        even.append(i)\n",
    "print(even)\n",
    "\n",
    "x = x[:5]\n",
    "print(x)"
   ]
  }
 ],
 "metadata": {
  "kernelspec": {
   "display_name": "Data_Analysis",
   "language": "python",
   "name": "python3"
  },
  "language_info": {
   "codemirror_mode": {
    "name": "ipython",
    "version": 3
   },
   "file_extension": ".py",
   "mimetype": "text/x-python",
   "name": "python",
   "nbconvert_exporter": "python",
   "pygments_lexer": "ipython3",
   "version": "3.11.5"
  },
  "orig_nbformat": 4
 },
 "nbformat": 4,
 "nbformat_minor": 2
}
